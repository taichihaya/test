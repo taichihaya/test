{
  "nbformat": 4,
  "nbformat_minor": 0,
  "metadata": {
    "accelerator": "GPU",
    "colab": {
      "name": "2_BERT_livedoor_news_on_Google_Colaboratory_tfidf",
      "provenance": [],
      "collapsed_sections": [],
      "include_colab_link": true
    },
    "kernelspec": {
      "display_name": "Python 3",
      "name": "python3"
    }
  },
  "cells": [
    {
      "cell_type": "markdown",
      "metadata": {
        "id": "view-in-github",
        "colab_type": "text"
      },
      "source": [
        "<a href=\"https://colab.research.google.com/github/taichihaya/test/blob/master/livedoor_news_tfidf.ipynb\" target=\"_parent\"><img src=\"https://colab.research.google.com/assets/colab-badge.svg\" alt=\"Open In Colab\"/></a>"
      ]
    },
    {
      "cell_type": "markdown",
      "metadata": {
        "id": "VYlVm0kpjx57"
      },
      "source": [
        "## 日本語BERTでlivedoorニュースを教師あり学習で分類"
      ]
    },
    {
      "cell_type": "code",
      "metadata": {
        "id": "IqIW6ar2Bm3J",
        "colab": {
          "base_uri": "https://localhost:8080/"
        },
        "outputId": "a1ae97fd-d4f5-4fdd-b2f3-6f49b9d43e91"
      },
      "source": [
        "# 乱数シードの固定\n",
        "\n",
        "import os\n",
        "import random\n",
        "import numpy as np\n",
        "import torch\n",
        "import tarfile\n",
        "import os\n",
        "import glob\n",
        "import pandas as pd\n",
        "\n",
        "SEED_VALUE = 1234  # これはなんでも良い\n",
        "os.environ['PYTHONHASHSEED'] = str(SEED_VALUE)\n",
        "random.seed(SEED_VALUE)\n",
        "np.random.seed(SEED_VALUE)\n",
        "torch.manual_seed(SEED_VALUE)  # PyTorchを使う場合\n"
      ],
      "execution_count": 1,
      "outputs": [
        {
          "output_type": "execute_result",
          "data": {
            "text/plain": [
              "<torch._C.Generator at 0x7fc3eecfeb58>"
            ]
          },
          "metadata": {
            "tags": []
          },
          "execution_count": 1
        }
      ]
    },
    {
      "cell_type": "markdown",
      "metadata": {
        "id": "gc6dbVUfj1W-"
      },
      "source": [
        "## 準備1：Livedoorニュースをダウンロードしてtsvファイル化\n",
        "\n",
        "参考：https://github.com/yoheikikuta/bert-japanese/blob/master/notebook/finetune-to-livedoor-corpus.ipynb\n"
      ]
    },
    {
      "cell_type": "code",
      "metadata": {
        "id": "keY2WGdwjzLD"
      },
      "source": [
        "%%capture\n",
        "# Livedoorニュースのファイルをダウンロード\n",
        "! wget \"https://www.rondhuit.com/download/ldcc-20140209.tar.gz\"\n",
        "\n",
        "# 解凍\n",
        "tar = tarfile.open(\"ldcc-20140209.tar.gz\", \"r:gz\")\n",
        "tar.extractall(\"./data/livedoor/\")\n",
        "tar.close()\n",
        "\n",
        "# ファイルの中身を確認してみる\n",
        "file_name = \"./data/livedoor/text/movie-enter/movie-enter-6255260.txt\"\n",
        "\n",
        "# 本文を取得する前処理関数を定義\n",
        "\n",
        "def extract_main_txt(file_name):\n",
        "    with open(file_name) as text_file:\n",
        "        # 今回はタイトル行は外したいので、3要素目以降の本文のみ使用\n",
        "        text = text_file.readlines()[3:]\n",
        "\n",
        "        # 3要素目以降にも本文が入っている場合があるので、リストにして、後で結合させる\n",
        "        text = [sentence.strip() for sentence in text]  # 空白文字(スペースやタブ、改行)の削除\n",
        "        text = list(filter(lambda line: line != '', text))\n",
        "        text = ''.join(text)\n",
        "        text = text.translate(str.maketrans(\n",
        "            {'\\n': '', '\\t': '', '\\r': '', '\\u3000': ''}))  # 改行やタブ、全角スペースを消す\n",
        "        return text\n",
        "\n",
        "# リストに前処理した本文と、カテゴリーのラベルを追加していく\n",
        "\n",
        "list_text = []\n",
        "list_label = []\n",
        "\n",
        "categories = [name for name in os.listdir(\n",
        "    \"./data/livedoor/text/\") if os.path.isdir(\"./data/livedoor/text/\"+name)]\n",
        "\n",
        "for cat in categories:\n",
        "    text_files = glob.glob(os.path.join(\"./data/livedoor/text\", cat, \"*.txt\"))\n",
        "\n",
        "    # 前処理extract_main_txtを実施して本文を取得\n",
        "    body = [extract_main_txt(text_file) for text_file in text_files]\n",
        "\n",
        "    label = [cat] * len(body)  # bodyの数文だけカテゴリー名のラベルのリストを作成\n",
        "\n",
        "    list_text.extend(body)  # appendが要素を追加するのに対して、extendはリストごと追加する\n",
        "    list_label.extend(label)\n",
        "\n",
        "# pandasのDataFrameにする\n",
        "df = pd.DataFrame({'text': list_text, 'label': list_label})\n",
        "\n",
        "# カテゴリーの辞書を作成\n",
        "dic_id2cat = dict(zip(list(range(len(categories))), categories))\n",
        "dic_cat2id = dict(zip(categories, list(range(len(categories)))))\n",
        "\n",
        "# DataFrameにカテゴリーindexの列を作成\n",
        "df[\"label_index\"] = df[\"label\"].map(dic_cat2id)\n",
        "\n",
        "# label列を消去し、text, indexの順番にする\n",
        "df = df.loc[:, [\"text\", \"label_index\"]]\n",
        "\n",
        "# 順番をシャッフルする\n",
        "df = df.sample(frac=1, random_state=123).reset_index(drop=True)\n",
        "\n",
        "# tsvファイルで保存する\n",
        "\n",
        "# 全体の2割の文章数\n",
        "len_0_2 = len(df) // 5\n",
        "\n",
        "# 前から2割をテストデータとする\n",
        "test = df[:len_0_2]\n",
        "test.to_csv(\"./test.tsv\", sep='\\t', index=False)\n",
        "\n",
        "# 前2割からを訓練&検証データとする\n",
        "train = df[len_0_2:]\n",
        "train.to_csv(\"./train_eval.tsv\", sep='\\t', index=False)"
      ],
      "execution_count": 2,
      "outputs": []
    },
    {
      "cell_type": "markdown",
      "metadata": {
        "id": "qPT3Pjr94oPW"
      },
      "source": [
        "## TFIDF"
      ]
    },
    {
      "cell_type": "code",
      "metadata": {
        "id": "kPXX4pr2-kY-"
      },
      "source": [
        "# MeCabの用意\n",
        "%%capture\n",
        "!apt install aptitude swig\n",
        "!aptitude install mecab libmecab-dev mecab-ipadic-utf8 git make curl xz-utils file -y\n",
        "!pip install mecab-python3==0.7"
      ],
      "execution_count": 3,
      "outputs": []
    },
    {
      "cell_type": "code",
      "metadata": {
        "id": "fK87Y7r7uKnt"
      },
      "source": [
        "import MeCab"
      ],
      "execution_count": 4,
      "outputs": []
    },
    {
      "cell_type": "code",
      "metadata": {
        "id": "YiGCcWVzs3Vp"
      },
      "source": [
        "from sklearn.feature_extraction.text import TfidfTransformer\r\n",
        "from sklearn.feature_extraction.text import TfidfVectorizer"
      ],
      "execution_count": 5,
      "outputs": []
    },
    {
      "cell_type": "code",
      "metadata": {
        "colab": {
          "base_uri": "https://localhost:8080/"
        },
        "id": "nJzXC-1TYz47",
        "outputId": "35d7ff26-aebd-4659-eabc-4c8c24965c85"
      },
      "source": [
        "train_eval = pd.read_csv(\"./train_eval.tsv\",sep=\"\\t\")\n",
        "test = pd.read_csv(\"./test.tsv\",sep=\"\\t\")\n",
        "train_eval.label_index.value_counts()"
      ],
      "execution_count": 6,
      "outputs": [
        {
          "output_type": "execute_result",
          "data": {
            "text/plain": [
              "4    730\n",
              "2    716\n",
              "1    697\n",
              "8    693\n",
              "7    691\n",
              "6    691\n",
              "0    665\n",
              "5    617\n",
              "3    401\n",
              "Name: label_index, dtype: int64"
            ]
          },
          "metadata": {
            "tags": []
          },
          "execution_count": 6
        }
      ]
    },
    {
      "cell_type": "code",
      "metadata": {
        "colab": {
          "base_uri": "https://localhost:8080/"
        },
        "id": "qnCzrZ4QMT4S",
        "outputId": "e60043e8-28f9-4ca0-e4d1-ae9d86af6b61"
      },
      "source": [
        "target = 3\r\n",
        "train_eval[\"target\"] = (train_eval.label_index==target)*1\r\n",
        "test[\"target\"] = (test.label_index==target)*1\r\n",
        "train_eval.target.value_counts(normalize=True)"
      ],
      "execution_count": 7,
      "outputs": [
        {
          "output_type": "execute_result",
          "data": {
            "text/plain": [
              "0    0.932045\n",
              "1    0.067955\n",
              "Name: target, dtype: float64"
            ]
          },
          "metadata": {
            "tags": []
          },
          "execution_count": 7
        }
      ]
    },
    {
      "cell_type": "code",
      "metadata": {
        "id": "peLjOUsCtrzq"
      },
      "source": [
        "# Mecabで必要な品詞に絞る\r\n",
        "def mplg(text):\r\n",
        "    word_list = \"\"\r\n",
        "    m=MeCab.Tagger()\r\n",
        "    m1=m.parse(text)\r\n",
        "    for row in m1.split(\"\\n\"):\r\n",
        "        word =row.split(\"\\t\")[0]#タブ区切りになっている１つ目を取り出す。ここには形態素が格納されている\r\n",
        "        if word == \"EOS\":\r\n",
        "            break\r\n",
        "        else:\r\n",
        "            pos = row.split(\"\\t\")[1]#タブ区切りになっている2つ目を取り出す。ここには品詞が格納されている\r\n",
        "            slice = pos[:2]\r\n",
        "            if slice in [\"名詞\",\"動詞\",\"助動詞\"]:\r\n",
        "                word_list = word_list +\" \"+ word\r\n",
        "    return word_list\r\n",
        "\r\n",
        "import re\r\n",
        "def replace_number_to_zero(text):\r\n",
        "    changed_text = re.sub(r'[0-9]+', \"0\", text) #半角\r\n",
        "    changed_text = re.sub(r'[０-９]+', \"0\", changed_text) #全角\r\n",
        "    return changed_text\r\n",
        "\r\n",
        "train_eval[\"text_macab\"] = train_eval.text.apply(mplg)\r\n",
        "train_eval[\"text_macab\"] = train_eval.text_macab.apply(replace_number_to_zero)\r\n",
        "\r\n",
        "test[\"text_macab\"] = test.text.apply(mplg)\r\n",
        "test[\"text_macab\"] = test.text_macab.apply(replace_number_to_zero)"
      ],
      "execution_count": 8,
      "outputs": []
    },
    {
      "cell_type": "code",
      "metadata": {
        "id": "af4DqA3St_XY"
      },
      "source": [
        "# tfidf\r\n",
        "tfidf = TfidfVectorizer(min_df=0.02,\r\n",
        "                        max_df=0.90,\r\n",
        "                        ngram_range=(1,3))\r\n",
        "tfidf.fit(train_eval[\"text_macab\"])\r\n",
        "\r\n",
        "train_tf_vec = tfidf.transform(train_eval[\"text_macab\"])\r\n",
        "test_tf_vec = tfidf.transform(test[\"text_macab\"])\r\n",
        "\r\n",
        "from sklearn.decomposition import TruncatedSVD\r\n",
        "# SVD\r\n",
        "svd = TruncatedSVD(n_components=50, n_iter=7, random_state=42)\r\n",
        "svd.fit(train_tf_vec.toarray())\r\n",
        "\r\n",
        "train_X = svd.transform(train_tf_vec.toarray())\r\n",
        "train_df = pd.DataFrame(train_X,columns=[f\"pc_{i}\" for i in range(1,51)])\r\n",
        "train_df[\"target\"] = train_eval[\"target\"]\r\n",
        "\r\n",
        "test_X = svd.transform(test_tf_vec.toarray())\r\n",
        "test_df = pd.DataFrame(test_X,columns=[f\"pc_{i}\" for i in range(1,51)])\r\n",
        "test_df[\"target\"] = test[\"target\"]"
      ],
      "execution_count": 9,
      "outputs": []
    },
    {
      "cell_type": "code",
      "metadata": {
        "colab": {
          "base_uri": "https://localhost:8080/",
          "height": 299
        },
        "id": "VQ_ZNwYgI1f6",
        "outputId": "5b3796f5-2dc9-4a9a-f3f2-b9a3b6c4e5ba"
      },
      "source": [
        "# 2次元圧縮時のプロット\r\n",
        "import seaborn as sns\r\n",
        "from sklearn.decomposition import TruncatedSVD\r\n",
        "from sklearn.manifold import TSNE\r\n",
        "\r\n",
        "svd_2d = TruncatedSVD(n_components=2, n_iter=7, random_state=42)\r\n",
        "svd_2d.fit(train_tf_vec.toarray())\r\n",
        "X = svd_2d.transform(train_tf_vec.toarray())\r\n",
        "scatter_df = pd.DataFrame(X,columns=[\"pf1\",\"pf2\"])\r\n",
        "scatter_df[\"label\"] = train_eval[\"target\"]\r\n",
        "scatter_df\r\n",
        "sns.scatterplot(data=scatter_df, x=\"pf1\", y=\"pf2\", hue=\"label\")"
      ],
      "execution_count": 10,
      "outputs": [
        {
          "output_type": "execute_result",
          "data": {
            "text/plain": [
              "<matplotlib.axes._subplots.AxesSubplot at 0x7fc386e523c8>"
            ]
          },
          "metadata": {
            "tags": []
          },
          "execution_count": 10
        },
        {
          "output_type": "display_data",
          "data": {
            "image/png": "[encoded data removed]",
            "text/plain": [
              "<Figure size 432x288 with 1 Axes>"
            ]
          },
          "metadata": {
            "tags": [],
            "needs_background": "light"
          }
        }
      ]
    },
    {
      "cell_type": "code",
      "metadata": {
        "id": "qIdZebewhNly"
      },
      "source": [
        "from sklearn.model_selection import train_test_split\r\n",
        "\r\n",
        "X_train, X_test, y_train, y_test = train_test_split(train_df.drop(\"target\",axis=1), \r\n",
        "                                                    train_df[\"target\"],\r\n",
        "                                                    test_size=0.3,\r\n",
        "                                                    shuffle=True,\r\n",
        "                                                    random_state=42,\r\n",
        "                                                    stratify=train_df[\"target\"])"
      ],
      "execution_count": 11,
      "outputs": []
    },
    {
      "cell_type": "code",
      "metadata": {
        "id": "Y9XTazB8HNsk"
      },
      "source": [
        "def focal_loss_lgb(y_pred, dtrain, alpha, gamma):\r\n",
        "  a,g = alpha, gamma\r\n",
        "  y_true = dtrain.get_label()\r\n",
        "  def fl(x,t):\r\n",
        "  \tp = 1/(1+np.exp(-x))\r\n",
        "  \treturn -( a*t + (1-a)*(1-t) ) * (( 1 - ( t*p + (1-t)*(1-p)) )**g) * ( t*np.log(p)+(1-t)*np.log(1-p) )\r\n",
        "  partial_fl = lambda x: fl(x, y_true)\r\n",
        "  grad = derivative(partial_fl, y_pred, n=1, dx=1e-6)\r\n",
        "  hess = derivative(partial_fl, y_pred, n=2, dx=1e-6)\r\n",
        "  return grad, hess\r\n",
        "\r\n",
        "def focal_loss_lgb_eval_error(y_pred, dtrain, alpha, gamma):\r\n",
        "  a,g = alpha, gamma\r\n",
        "  y_true = dtrain.get_label()\r\n",
        "  p = 1/(1+np.exp(-y_pred))\r\n",
        "  loss = -( a*y_true + (1-a)*(1-y_true) ) * (( 1 - ( y_true*p + (1-y_true)*(1-p)) )**g) * ( y_true*np.log(p)+(1-y_true)*np.log(1-p) )\r\n",
        "  # (eval_name, eval_result, is_higher_better)\r\n",
        "  return 'focal_loss', np.mean(loss), False\r\n",
        "\r\n",
        "def focal_loss_lgb_f1_score(preds, lgbDataset):\r\n",
        "  preds = sigmoid(preds)\r\n",
        "  binary_preds = [int(p>0.5) for p in preds]\r\n",
        "  y_true = lgbDataset.get_label()\r\n",
        "  return 'f1', f1_score(y_true, binary_preds), True"
      ],
      "execution_count": 12,
      "outputs": []
    },
    {
      "cell_type": "code",
      "metadata": {
        "colab": {
          "base_uri": "https://localhost:8080/"
        },
        "id": "nSAMB_P0IzTq",
        "outputId": "e0ee28ca-9b06-47cc-9917-02ea146d4a9d"
      },
      "source": [
        "import lightgbm as lgb \r\n",
        "lgb_train = lgb.Dataset(X_train, y_train)\r\n",
        "lgb_eval = lgb.Dataset(X_test, y_test)\r\n",
        "\r\n",
        "lgbm_params = {\r\n",
        "    'application': 'binary',     # Binary classification\r\n",
        "    'learning_rate': 0.01,       # Learning rate, controls size of a gradient descent step\r\n",
        "    'min_data_in_leaf': 20,      # Data set is quite small so reduce this a bit\r\n",
        "    'feature_fraction': 0.7,     # Proportion of features in each boost, controls overfitting\r\n",
        "    'num_leaves': 41,            # Controls size of tree since LGBM uses leaf wise splits\r\n",
        "    'drop_rate': 0.15\r\n",
        "              }\r\n",
        "\r\n",
        "from scipy.misc import derivative\r\n",
        "focal_loss = lambda x,y: focal_loss_lgb(x, y, alpha=0.25, gamma=1.)\r\n",
        "focal_loss_eval = lambda x,y: focal_loss_lgb_eval_error(x, y, alpha=0.25, gamma=1.)\r\n",
        "\r\n",
        "clf = lgb.train(train_set=lgb_train,\r\n",
        "                params=lgbm_params,\r\n",
        "                valid_sets=[lgb_train, lgb_eval], \r\n",
        "                valid_names=['Train', 'Test'],\r\n",
        "                num_boost_round=1000,\r\n",
        "                early_stopping_rounds=100,\r\n",
        "                verbose_eval=100,\r\n",
        "                fobj=focal_loss,\r\n",
        "                feval=focal_loss_eval\r\n",
        "                )"
      ],
      "execution_count": 13,
      "outputs": [
        {
          "output_type": "stream",
          "text": [
            "Training until validation scores don't improve for 100 rounds.\n",
            "[100]\tTrain's focal_loss: 0.081268\tTest's focal_loss: 0.0850791\n",
            "[200]\tTrain's focal_loss: 0.0342878\tTest's focal_loss: 0.0413847\n",
            "[300]\tTrain's focal_loss: 0.0169733\tTest's focal_loss: 0.0278456\n",
            "[400]\tTrain's focal_loss: 0.0091602\tTest's focal_loss: 0.0234308\n",
            "[500]\tTrain's focal_loss: 0.00507499\tTest's focal_loss: 0.0221041\n",
            "[600]\tTrain's focal_loss: 0.00285178\tTest's focal_loss: 0.0220913\n",
            "Early stopping, best iteration is:\n",
            "[533]\tTrain's focal_loss: 0.00418286\tTest's focal_loss: 0.0219705\n"
          ],
          "name": "stdout"
        }
      ]
    },
    {
      "cell_type": "code",
      "metadata": {
        "colab": {
          "base_uri": "https://localhost:8080/"
        },
        "id": "wMorBMZCza5O",
        "outputId": "a30587f2-9606-4b86-8db1-0800065076ec"
      },
      "source": [
        "from xgboost import XGBClassifier\r\n",
        "\r\n",
        "xgb_model = XGBClassifier(learning_rate=0.01,n_estimators=1000,)\r\n",
        "xgb_model.fit(X_train,\r\n",
        "              y_train,\r\n",
        "              early_stopping_rounds=100,\r\n",
        "              eval_set=[[X_test, y_test]],\r\n",
        "              verbose=100,\r\n",
        "              eval_metric=\"aucpr\"\r\n",
        "              )"
      ],
      "execution_count": 14,
      "outputs": [
        {
          "output_type": "stream",
          "text": [
            "[0]\tvalidation_0-aucpr:0.433339\n",
            "Will train until validation_0-aucpr hasn't improved in 100 rounds.\n",
            "[100]\tvalidation_0-aucpr:0.534265\n",
            "[200]\tvalidation_0-aucpr:0.610819\n",
            "[300]\tvalidation_0-aucpr:0.631521\n",
            "[400]\tvalidation_0-aucpr:0.663769\n",
            "[500]\tvalidation_0-aucpr:0.671246\n",
            "[600]\tvalidation_0-aucpr:0.674335\n",
            "[700]\tvalidation_0-aucpr:0.679576\n",
            "[800]\tvalidation_0-aucpr:0.684128\n",
            "[900]\tvalidation_0-aucpr:0.688702\n",
            "[999]\tvalidation_0-aucpr:0.693559\n"
          ],
          "name": "stdout"
        },
        {
          "output_type": "execute_result",
          "data": {
            "text/plain": [
              "XGBClassifier(base_score=0.5, booster='gbtree', colsample_bylevel=1,\n",
              "              colsample_bynode=1, colsample_bytree=1, gamma=0,\n",
              "              learning_rate=0.01, max_delta_step=0, max_depth=3,\n",
              "              min_child_weight=1, missing=None, n_estimators=1000, n_jobs=1,\n",
              "              nthread=None, objective='binary:logistic', random_state=0,\n",
              "              reg_alpha=0, reg_lambda=1, scale_pos_weight=1, seed=None,\n",
              "              silent=None, subsample=1, verbosity=1)"
            ]
          },
          "metadata": {
            "tags": []
          },
          "execution_count": 14
        }
      ]
    },
    {
      "cell_type": "code",
      "metadata": {
        "id": "H3D4kfAGMCFQ"
      },
      "source": [
        "predict_df = test_df[[\"target\"]].copy()\r\n",
        "predict_df[\"pred\"] = clf.predict(test_df.drop(\"target\",axis=1),num_iteration=clf.best_iteration)\r\n",
        "# predict_df[\"pred\"] = xgb_model.predict_proba(test_df.drop(\"target\",axis=1))[:,1]\r\n",
        "# predict_df[\"pred\"] = na_clf.predict_proba(test_df.drop(\"target\",axis=1))[:,1]\r\n",
        "predict_df[\"pred_rank\"] = predict_df.pred.rank(ascending=False)"
      ],
      "execution_count": 15,
      "outputs": []
    },
    {
      "cell_type": "code",
      "metadata": {
        "colab": {
          "base_uri": "https://localhost:8080/"
        },
        "id": "dXzm9hGkMCCY",
        "outputId": "d5a36b00-f12d-4651-f327-acb7977783c8"
      },
      "source": [
        "import math\r\n",
        "target_num = sum(test_df.target)\r\n",
        "by_70 = math.ceil(target_num*0.7)\r\n",
        "print(target_num)\r\n",
        "correct_num = predict_df[predict_df.pred_rank <= target_num].target.sum()\r\n",
        "print(correct_num)\r\n",
        "print(correct_num/target_num)"
      ],
      "execution_count": 16,
      "outputs": [
        {
          "output_type": "stream",
          "text": [
            "111\n",
            "76\n",
            "0.6846846846846847\n"
          ],
          "name": "stdout"
        }
      ]
    },
    {
      "cell_type": "code",
      "metadata": {
        "id": "UrDc6YQrMB9V"
      },
      "source": [
        "predict_df = predict_df.sort_values(\"pred_rank\")\r\n",
        "predict_df[\"target_cumsum\"] = predict_df.target.cumsum()\r\n",
        "thres_rank = predict_df.query(\"target_cumsum==@by_70 and target==1\").pred_rank.values[0]\r\n",
        "predict_df[\"predict_cat\"] = (predict_df.pred_rank <= thres_rank)*1"
      ],
      "execution_count": 17,
      "outputs": []
    },
    {
      "cell_type": "code",
      "metadata": {
        "colab": {
          "base_uri": "https://localhost:8080/"
        },
        "id": "2I_cVDtWAcwl",
        "outputId": "aa58e8ee-a4f2-4fc5-d4de-6e09acfb8bde"
      },
      "source": [
        "from sklearn.metrics import confusion_matrix\r\n",
        "confusion_matrix(predict_df[\"target\"],predict_df[\"predict_cat\"])"
      ],
      "execution_count": 18,
      "outputs": [
        {
          "output_type": "execute_result",
          "data": {
            "text/plain": [
              "array([[1328,   36],\n",
              "       [  33,   78]])"
            ]
          },
          "metadata": {
            "tags": []
          },
          "execution_count": 18
        }
      ]
    },
    {
      "cell_type": "code",
      "metadata": {
        "id": "90sePrF-EChr"
      },
      "source": [
        ""
      ],
      "execution_count": 18,
      "outputs": []
    }
  ]
}